{
 "cells": [
  {
   "cell_type": "code",
   "execution_count": 1,
   "metadata": {},
   "outputs": [],
   "source": [
    "from ngsolve import *\n",
    "import netgen.geom2d as g2d\n",
    "from netgen.meshing import Pnt\n",
    "from ngsolve.la import EigenValues_Preconditioner"
   ]
  },
  {
   "cell_type": "code",
   "execution_count": 2,
   "metadata": {},
   "outputs": [],
   "source": [
    "geo = g2d.CSG2d()\n",
    "geo.Add(g2d.Circle(Pnt((0,0)), 1.0))\n",
    "ngmesh = geo.GenerateMesh(maxh=1.0)\n",
    "mesh = Mesh(ngmesh)\n",
    "mesh.ngmesh.SecondOrder()\n",
    "#mesh.Curve(2)\n",
    "Draw(mesh)"
   ]
  },
  {
   "cell_type": "code",
   "execution_count": 3,
   "metadata": {},
   "outputs": [],
   "source": [
    "V = VectorH1(mesh, order=2)\n",
    "u,v = V.TnT()\n",
    "\n",
    "ndscal = V.ndof//mesh.dim\n",
    "nv = mesh.nv\n",
    "\n",
    "eps = lambda U : Grad(U)+Grad(U).trans"
   ]
  },
  {
   "cell_type": "code",
   "execution_count": 4,
   "metadata": {},
   "outputs": [],
   "source": [
    "V.SetCouplingType(IntRange(0, V.ndof), COUPLING_TYPE.INTERFACE_DOF)\n",
    "# for k,v in enumerate(mesh.vertices):\n",
    "#     V.SetCouplingType(k, WIREBASKET_DOF)\n",
    "#     V.SetCouplingType(ndscal+k, WIREBASKET_DOF)\n",
    "V.SetCouplingType(IntRange(0, nv), COUPLING_TYPE.WIREBASKET_DOF)\n",
    "V.SetCouplingType(IntRange(ndscal, ndscal+nv), COUPLING_TYPE.WIREBASKET_DOF)"
   ]
  },
  {
   "cell_type": "code",
   "execution_count": 5,
   "metadata": {},
   "outputs": [
    {
     "data": {
      "text/plain": [
       "<ngsolve.comp.BilinearForm at 0x2ce69a8f3b0>"
      ]
     },
     "execution_count": 5,
     "metadata": {},
     "output_type": "execute_result"
    }
   ],
   "source": [
    "a = BilinearForm(V, eliminate_internal=True)\n",
    "a += InnerProduct(eps(u), eps(v))*dx\n",
    "a += u*v *dx\n",
    "c1 = Preconditioner(a, \"local\")\n",
    "c2 = Preconditioner(a, \"h1amg\")\n",
    "c3 = Preconditioner(a, \"bddc\")\n",
    "a.Assemble()"
   ]
  },
  {
   "cell_type": "code",
   "execution_count": 6,
   "metadata": {},
   "outputs": [],
   "source": [
    "gfu = GridFunction(V)\n",
    "for k,v in enumerate(mesh.vertices):\n",
    "    x,y = v.point\n",
    "    gfu.vec[k] = -y\n",
    "    gfu.vec[ndscal+k] = x"
   ]
  },
  {
   "cell_type": "code",
   "execution_count": 7,
   "metadata": {},
   "outputs": [
    {
     "name": "stdout",
     "output_type": "stream",
     "text": [
      "jacobi\n",
      " 0.0195599\n",
      " 0.0217984\n",
      " 0.173449\n",
      " ...\n",
      "  2.86818\n",
      " 2.99115\n",
      " 3.07675\n",
      "\n",
      "precond1 157.29914220879493\n"
     ]
    }
   ],
   "source": [
    "lams = EigenValues_Preconditioner(mat=a.mat, pre=c1)\n",
    "print(\"jacobi\")\n",
    "print(lams[0:3], \"...\\n\", lams[-3:])\n",
    "print(\"precond1\", max(lams) / min(lams))"
   ]
  },
  {
   "cell_type": "code",
   "execution_count": 8,
   "metadata": {},
   "outputs": [
    {
     "name": "stdout",
     "output_type": "stream",
     "text": [
      "multigrid\n",
      " 0.15098\n",
      " 0.222325\n",
      " 0.320574\n",
      " ...\n",
      "  0.97362\n",
      " 0.989566\n",
      " 0.999412\n",
      "\n",
      "precond2 6.619509171094502\n"
     ]
    }
   ],
   "source": [
    "lams = EigenValues_Preconditioner(mat=a.mat, pre=c2)\n",
    "print(\"multigrid\")\n",
    "print(lams[0:3], \"...\\n\", lams[-3:])\n",
    "print(\"precond2\", max(lams) / min(lams))"
   ]
  },
  {
   "cell_type": "code",
   "execution_count": 9,
   "metadata": {},
   "outputs": [
    {
     "name": "stdout",
     "output_type": "stream",
     "text": [
      "bddc\n",
      "       1\n",
      " 1.07479\n",
      " 1.15012\n",
      " ...\n",
      "  5.65501\n",
      " 5.69174\n",
      "   6.521\n",
      "\n",
      "precond3 6.520998533330972\n"
     ]
    }
   ],
   "source": [
    "lams = EigenValues_Preconditioner(mat=a.mat, pre=c3)\n",
    "print(\"bddc\")\n",
    "print(lams[0:3], \"...\\n\", lams[-3:])\n",
    "print(\"precond3\", max(lams) / min(lams))"
   ]
  },
  {
   "cell_type": "code",
   "execution_count": 10,
   "metadata": {},
   "outputs": [
    {
     "name": "stdout",
     "output_type": "stream",
     "text": [
      "blockjac\n",
      "       1\n",
      " 1.08123\n",
      " 1.15635\n",
      " ...\n",
      "  5.65501\n",
      " 5.69174\n",
      "   6.521\n",
      "\n",
      "precond4 6.5209959395835995\n"
     ]
    }
   ],
   "source": [
    "def VertexPatchBlocks(fes):\n",
    "    mesh = fes.mesh\n",
    "    blocks = []\n",
    "    freedofs = fes.FreeDofs()\n",
    "    for v in mesh.vertices:\n",
    "        vdofs = set()\n",
    "        for el in mesh[v].elements:\n",
    "            vdofs |= set(d for d in fes.GetDofNrs(el)\n",
    "                            if freedofs[d])\n",
    "        blocks.append(vdofs)\n",
    "    return blocks\n",
    "\n",
    "blocks = VertexPatchBlocks(V)\n",
    "c4 = a.mat.CreateBlockSmoother(blocks)\n",
    "lams = EigenValues_Preconditioner(mat=a.mat, pre=c3)\n",
    "print(\"blockjac\")\n",
    "print(lams[0:3], \"...\\n\", lams[-3:])\n",
    "print(\"precond4\", max(lams) / min(lams))"
   ]
  }
 ],
 "metadata": {
  "kernelspec": {
   "display_name": "Python 3",
   "language": "python",
   "name": "python3"
  },
  "language_info": {
   "codemirror_mode": {
    "name": "ipython",
    "version": 3
   },
   "file_extension": ".py",
   "mimetype": "text/x-python",
   "name": "python",
   "nbconvert_exporter": "python",
   "pygments_lexer": "ipython3",
   "version": "3.7.9"
  }
 },
 "nbformat": 4,
 "nbformat_minor": 2
}
