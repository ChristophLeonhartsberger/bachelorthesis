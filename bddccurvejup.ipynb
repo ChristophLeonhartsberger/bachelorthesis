{
 "cells": [
  {
   "cell_type": "code",
   "execution_count": 1,
   "metadata": {},
   "outputs": [],
   "source": [
    "from ngsolve import *\n",
    "import netgen.geom2d as g2d\n",
    "from netgen.meshing import Pnt"
   ]
  },
  {
   "cell_type": "code",
   "execution_count": 2,
   "metadata": {},
   "outputs": [],
   "source": [
    "#from netgen.csg import *\n",
    "\n",
    "#cube = OrthoBrick( Pnt(0,0,0), Pnt(1,1,1) )\n",
    "#geo = CSGeometry()\n",
    "#geo.Add (cube)\n",
    "#ngmesh = geo.GenerateMesh(maxh=0.1)\n",
    "#mesh = Mesh(ngmesh)"
   ]
  },
  {
   "cell_type": "code",
   "execution_count": 3,
   "metadata": {},
   "outputs": [],
   "source": [
    "geo = g2d.CSG2d()\n",
    "geo.Add(g2d.Circle(Pnt((0,0)), 1.0))\n",
    "ngmesh = geo.GenerateMesh(maxh=1.0)\n",
    "mesh = Mesh(ngmesh)\n",
    "mesh.ngmesh.SecondOrder()\n",
    "#mesh.Curve(2)\n",
    "Draw(mesh)"
   ]
  },
  {
   "cell_type": "code",
   "execution_count": 4,
   "metadata": {},
   "outputs": [
    {
     "name": "stdout",
     "output_type": "stream",
     "text": [
      "nv: 20\n",
      "ne: 26\n",
      "nedges: 45\n",
      "ndof: 130\n",
      "ndscal: 65\n"
     ]
    }
   ],
   "source": [
    "V = VectorH1(mesh, order=2)\n",
    "u,v = V.TnT()\n",
    "\n",
    "ndscal = V.ndof//mesh.dim\n",
    "nv = mesh.nv\n",
    "ne = mesh.ne\n",
    "nedges = len(mesh.edges)\n",
    "print(\"nv:\", nv)\n",
    "print(\"ne:\", ne)\n",
    "print(\"nedges:\", nedges)\n",
    "print(\"ndof:\",V.ndof)\n",
    "print(\"ndscal:\",ndscal)"
   ]
  },
  {
   "cell_type": "code",
   "execution_count": 5,
   "metadata": {},
   "outputs": [],
   "source": [
    "#for i in range(V.ndof):\n",
    "#    print(V.CouplingType(i))\n",
    "#\n",
    "#print(\"+++++++++++++++++++++\")"
   ]
  },
  {
   "cell_type": "code",
   "execution_count": 6,
   "metadata": {},
   "outputs": [],
   "source": [
    "V.SetCouplingType(IntRange(0, V.ndof), COUPLING_TYPE.LOCAL_DOF)\n",
    "# for k,v in enumerate(mesh.vertices):\n",
    "#     V.SetCouplingType(k, WIREBASKET_DOF)\n",
    "#     V.SetCouplingType(ndscal+k, WIREBASKET_DOF)\n",
    "V.SetCouplingType(IntRange(0, nv), COUPLING_TYPE.WIREBASKET_DOF)\n",
    "V.SetCouplingType(IntRange(ndscal, ndscal+nv), COUPLING_TYPE.WIREBASKET_DOF)"
   ]
  },
  {
   "cell_type": "code",
   "execution_count": 7,
   "metadata": {},
   "outputs": [],
   "source": [
    "#for i in range(V.ndof):\n",
    "#    print(V.CouplingType(i))"
   ]
  },
  {
   "cell_type": "code",
   "execution_count": 8,
   "metadata": {},
   "outputs": [
    {
     "data": {
      "text/plain": [
       "<ngsolve.comp.BilinearForm at 0x1e1ea9a4a70>"
      ]
     },
     "execution_count": 8,
     "metadata": {},
     "output_type": "execute_result"
    }
   ],
   "source": [
    "eps = lambda U : Grad(U)+Grad(U).trans\n",
    "a = BilinearForm(V, eliminate_internal=True)\n",
    "a += InnerProduct(eps(u), eps(v))*dx\n",
    "a.Assemble()"
   ]
  },
  {
   "cell_type": "code",
   "execution_count": 9,
   "metadata": {},
   "outputs": [],
   "source": [
    "gfu = GridFunction(V)\n",
    "\n",
    "\n",
    "# gfu.vec[:] = 1.0\n",
    "\n",
    "ndscal = V.ndof//mesh.dim\n",
    "nv = mesh.nv\n",
    "for k,v in enumerate(mesh.vertices):\n",
    "    x,y = v.point\n",
    "    gfu.vec[k] = -y\n",
    "    gfu.vec[ndscal+k] = x"
   ]
  },
  {
   "cell_type": "code",
   "execution_count": 10,
   "metadata": {},
   "outputs": [
    {
     "name": "stdout",
     "output_type": "stream",
     "text": [
      "\n",
      "A-norm**2 = 5.197856952839326e-16\n",
      "\n"
     ]
    }
   ],
   "source": [
    "print(\"\\nA-norm**2 = {}\\n\".format(InnerProduct(a.mat*gfu.vec,gfu.vec)))\n",
    "# print(\"\\nc-norm**2 = {}\\n\".format(InnerProduct(c.mat*gfu.vec,gfu.vec)))\n",
    "Draw(gfu)"
   ]
  }
 ],
 "metadata": {
  "kernelspec": {
   "display_name": "Python 3",
   "language": "python",
   "name": "python3"
  },
  "language_info": {
   "codemirror_mode": {
    "name": "ipython",
    "version": 3
   },
   "file_extension": ".py",
   "mimetype": "text/x-python",
   "name": "python",
   "nbconvert_exporter": "python",
   "pygments_lexer": "ipython3",
   "version": "3.7.9"
  }
 },
 "nbformat": 4,
 "nbformat_minor": 2
}
